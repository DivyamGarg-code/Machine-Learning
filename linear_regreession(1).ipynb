{
 "cells": [
  {
   "cell_type": "markdown",
   "metadata": {},
   "source": [
    "Linear Regression (CN)\n",
    "Assignment solution \n",
    "Given : Training and testing data"
   ]
  },
  {
   "cell_type": "code",
   "execution_count": 1,
   "metadata": {},
   "outputs": [],
   "source": [
    "import numpy as np\n",
    "import pandas as pd\n",
    "import matplotlib.pyplot as plt"
   ]
  },
  {
   "cell_type": "code",
   "execution_count": 2,
   "metadata": {},
   "outputs": [
    {
     "name": "stdout",
     "output_type": "stream",
     "text": [
      "r2 score for training data : 0.49572080558056053\n",
      "[[105.52974799]\n",
      " [105.8039198 ]\n",
      " [178.60857225]\n",
      " [ 79.3828781 ]\n",
      " [ 52.95868706]\n",
      " [ 98.87263854]\n",
      " [150.71755448]\n",
      " [ 34.86515216]\n",
      " [113.13535727]\n",
      " [161.50184038]\n",
      " [135.8615611 ]\n",
      " [ 94.71592222]\n",
      " [138.48094422]\n",
      " [141.37441723]\n",
      " [158.76862662]\n",
      " [171.65288616]\n",
      " [106.44835654]\n",
      " [103.92659639]\n",
      " [ 95.38693889]\n",
      " [167.40118092]\n",
      " [166.53426278]\n",
      " [101.53464712]\n",
      " [252.45035972]\n",
      " [147.02258547]\n",
      " [214.78906632]\n",
      " [161.27557106]\n",
      " [210.61315228]\n",
      " [ 71.78091585]\n",
      " [189.65032431]\n",
      " [206.6134259 ]\n",
      " [219.98643455]\n",
      " [168.80192534]\n",
      " [116.84846127]\n",
      " [178.74399639]\n",
      " [ 77.03247418]\n",
      " [ 59.54633214]\n",
      " [111.5673781 ]\n",
      " [156.95186739]\n",
      " [154.59591259]\n",
      " [198.94457493]\n",
      " [115.53884017]\n",
      " [153.46699024]\n",
      " [ 84.96179518]\n",
      " [113.70337192]\n",
      " [142.14155617]\n",
      " [147.31040378]\n",
      " [ 82.78072358]\n",
      " [ 77.89237327]\n",
      " [128.99006192]\n",
      " [261.58712282]\n",
      " [213.31187775]\n",
      " [243.98791257]\n",
      " [167.68132094]\n",
      " [183.69712124]\n",
      " [166.85926884]\n",
      " [202.11440188]\n",
      " [220.39235543]\n",
      " [172.40288024]\n",
      " [176.60897931]\n",
      " [109.04656567]\n",
      " [276.37789836]\n",
      " [ 90.99941821]\n",
      " [289.37221147]\n",
      " [119.56253351]\n",
      " [ 75.45687948]\n",
      " [180.78598759]\n",
      " [146.62093081]\n",
      " [156.42382465]\n",
      " [ 41.079036  ]\n",
      " [247.90645166]\n",
      " [207.99121432]\n",
      " [ 90.09641075]\n",
      " [222.24169638]\n",
      " [189.86378006]\n",
      " [182.2695376 ]\n",
      " [164.39881376]\n",
      " [190.27066587]\n",
      " [105.4486795 ]\n",
      " [199.86136394]\n",
      " [245.796388  ]\n",
      " [123.20281334]\n",
      " [119.41031908]\n",
      " [145.86620411]\n",
      " [206.19247291]\n",
      " [150.86282453]\n",
      " [142.23221646]\n",
      " [154.56874616]\n",
      " [115.29233396]\n",
      " [134.07810123]\n",
      " [118.42225404]\n",
      " [203.5767555 ]\n",
      " [170.66483797]\n",
      " [127.409797  ]\n",
      " [ 57.13507634]\n",
      " [231.92226503]\n",
      " [185.20713654]\n",
      " [187.37494558]\n",
      " [ 83.55920849]\n",
      " [185.42585685]\n",
      " [217.34035639]\n",
      " [108.86715354]\n",
      " [ 80.98714568]\n",
      " [127.05524123]\n",
      " [242.00738792]\n",
      " [155.9723414 ]\n",
      " [125.67575276]\n",
      " [246.41235643]\n",
      " [234.963933  ]\n",
      " [191.51298252]\n",
      " [168.33254477]\n",
      " [163.02965178]]\n"
     ]
    }
   ],
   "source": [
    "training_data=np.genfromtxt(\"C:/Users/a/Desktop/Data Science/CN (Practice)/train.csv\",delimiter=',', skip_header=1) # having header\n",
    "testing_data=np.loadtxt(\"C:/Users/a/Desktop/Data Science/CN (Practice)/test.csv\",delimiter=',')\n",
    "x_train=training_data[:,:-1]\n",
    "y_train=training_data[:,-1].reshape(-1,1)\n",
    "x_test=testing_data\n",
    "\n",
    "from sklearn.linear_model import LinearRegression\n",
    "algo1=LinearRegression()\n",
    "algo1.fit(x_train,y_train)\n",
    "y_pred=algo1.predict(x_test)\n",
    "print(\"r2 score for training data :\",algo1.score(x_train,y_train))\n",
    "print(y_pred)\n"
   ]
  },
  {
   "cell_type": "code",
   "execution_count": null,
   "metadata": {},
   "outputs": [],
   "source": []
  },
  {
   "cell_type": "code",
   "execution_count": null,
   "metadata": {},
   "outputs": [],
   "source": []
  },
  {
   "cell_type": "code",
   "execution_count": null,
   "metadata": {},
   "outputs": [],
   "source": []
  },
  {
   "cell_type": "code",
   "execution_count": null,
   "metadata": {},
   "outputs": [],
   "source": []
  },
  {
   "cell_type": "code",
   "execution_count": null,
   "metadata": {},
   "outputs": [],
   "source": []
  },
  {
   "cell_type": "code",
   "execution_count": null,
   "metadata": {},
   "outputs": [],
   "source": []
  },
  {
   "cell_type": "code",
   "execution_count": null,
   "metadata": {},
   "outputs": [],
   "source": []
  },
  {
   "cell_type": "code",
   "execution_count": null,
   "metadata": {},
   "outputs": [],
   "source": []
  },
  {
   "cell_type": "code",
   "execution_count": null,
   "metadata": {},
   "outputs": [],
   "source": []
  }
 ],
 "metadata": {
  "interpreter": {
   "hash": "bf18297ba29ab59974e3cde921359bf4732846305eb0ebd212cf3897d725727a"
  },
  "kernelspec": {
   "display_name": "Python 3.9.5 64-bit",
   "language": "python",
   "name": "python3"
  },
  "language_info": {
   "codemirror_mode": {
    "name": "ipython",
    "version": 3
   },
   "file_extension": ".py",
   "mimetype": "text/x-python",
   "name": "python",
   "nbconvert_exporter": "python",
   "pygments_lexer": "ipython3",
   "version": "3.9.5"
  },
  "orig_nbformat": 4
 },
 "nbformat": 4,
 "nbformat_minor": 2
}

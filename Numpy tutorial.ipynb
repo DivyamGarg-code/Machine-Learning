{
 "cells": [
  {
   "cell_type": "markdown",
   "id": "d5552f56",
   "metadata": {},
   "source": [
    "# Numpy Tutorial"
   ]
  },
  {
   "cell_type": "code",
   "execution_count": 6,
   "id": "5dce8a62",
   "metadata": {},
   "outputs": [],
   "source": [
    "import numpy as nm\n",
    "import time"
   ]
  },
  {
   "cell_type": "code",
   "execution_count": 10,
   "id": "2c8b26a9",
   "metadata": {},
   "outputs": [],
   "source": [
    "myarray=nm.array([[1,2.4,4]],nm.int8) #creating the array with the numpy and determining the size of data type"
   ]
  },
  {
   "cell_type": "code",
   "execution_count": 11,
   "id": "671fb286",
   "metadata": {},
   "outputs": [
    {
     "data": {
      "text/plain": [
       "array([[1, 2, 4]], dtype=int8)"
      ]
     },
     "execution_count": 11,
     "metadata": {},
     "output_type": "execute_result"
    }
   ],
   "source": [
    "myarray"
   ]
  },
  {
   "cell_type": "code",
   "execution_count": 12,
   "id": "6c116ea9",
   "metadata": {},
   "outputs": [
    {
     "data": {
      "text/plain": [
       "(1, 3)"
      ]
     },
     "execution_count": 12,
     "metadata": {},
     "output_type": "execute_result"
    }
   ],
   "source": [
    "myarray.shape"
   ]
  },
  {
   "cell_type": "code",
   "execution_count": 13,
   "id": "2144206c",
   "metadata": {},
   "outputs": [
    {
     "data": {
      "text/plain": [
       "dtype('int8')"
      ]
     },
     "execution_count": 13,
     "metadata": {},
     "output_type": "execute_result"
    }
   ],
   "source": [
    "myarray.dtype # willl give the data type and the size it is taking "
   ]
  },
  {
   "cell_type": "markdown",
   "id": "ba556986",
   "metadata": {},
   "source": [
    "# Array Creation From other python structures"
   ]
  },
  {
   "cell_type": "code",
   "execution_count": 8,
   "id": "f084f0af",
   "metadata": {},
   "outputs": [],
   "source": [
    "l=nm.array([[1,2,3],[4,5,6],[7,8,9]])"
   ]
  },
  {
   "cell_type": "code",
   "execution_count": 9,
   "id": "a7407478",
   "metadata": {},
   "outputs": [
    {
     "data": {
      "text/plain": [
       "array([[1, 2, 3],\n",
       "       [4, 5, 6],\n",
       "       [7, 8, 9]])"
      ]
     },
     "execution_count": 9,
     "metadata": {},
     "output_type": "execute_result"
    }
   ],
   "source": [
    "l"
   ]
  },
  {
   "cell_type": "code",
   "execution_count": 10,
   "id": "9f803d7a",
   "metadata": {},
   "outputs": [
    {
     "data": {
      "text/plain": [
       "1"
      ]
     },
     "execution_count": 10,
     "metadata": {},
     "output_type": "execute_result"
    }
   ],
   "source": [
    "l[0][0]"
   ]
  },
  {
   "cell_type": "code",
   "execution_count": 11,
   "id": "2ccf04e8",
   "metadata": {},
   "outputs": [
    {
     "data": {
      "text/plain": [
       "array([[1, 2, 3],\n",
       "       [4, 5, 6],\n",
       "       [7, 8, 9]])"
      ]
     },
     "execution_count": 11,
     "metadata": {},
     "output_type": "execute_result"
    }
   ],
   "source": [
    "l"
   ]
  },
  {
   "cell_type": "code",
   "execution_count": 12,
   "id": "eda1faf2",
   "metadata": {},
   "outputs": [
    {
     "data": {
      "text/plain": [
       "array({1, 2, 3}, dtype=object)"
      ]
     },
     "execution_count": 12,
     "metadata": {},
     "output_type": "execute_result"
    }
   ],
   "source": [
    "nm.array({1,2,3,3})"
   ]
  },
  {
   "cell_type": "code",
   "execution_count": 13,
   "id": "3d009f05",
   "metadata": {},
   "outputs": [
    {
     "data": {
      "text/plain": [
       "9"
      ]
     },
     "execution_count": 13,
     "metadata": {},
     "output_type": "execute_result"
    }
   ],
   "source": [
    "l.size"
   ]
  },
  {
   "cell_type": "code",
   "execution_count": 14,
   "id": "68f2078d",
   "metadata": {},
   "outputs": [],
   "source": [
    "l=nm.zeros((3,2))"
   ]
  },
  {
   "cell_type": "code",
   "execution_count": 15,
   "id": "79926c94",
   "metadata": {},
   "outputs": [
    {
     "data": {
      "text/plain": [
       "array([[0., 0.],\n",
       "       [0., 0.],\n",
       "       [0., 0.]])"
      ]
     },
     "execution_count": 15,
     "metadata": {},
     "output_type": "execute_result"
    }
   ],
   "source": [
    "l"
   ]
  },
  {
   "cell_type": "code",
   "execution_count": 16,
   "id": "be2a6ac5",
   "metadata": {},
   "outputs": [
    {
     "data": {
      "text/plain": [
       "6"
      ]
     },
     "execution_count": 16,
     "metadata": {},
     "output_type": "execute_result"
    }
   ],
   "source": [
    "l.size"
   ]
  },
  {
   "cell_type": "code",
   "execution_count": 17,
   "id": "c82bc47a",
   "metadata": {},
   "outputs": [
    {
     "data": {
      "text/plain": [
       "dtype('float64')"
      ]
     },
     "execution_count": 17,
     "metadata": {},
     "output_type": "execute_result"
    }
   ],
   "source": [
    "l.dtype"
   ]
  },
  {
   "cell_type": "code",
   "execution_count": 18,
   "id": "b79bc1b9",
   "metadata": {},
   "outputs": [
    {
     "data": {
      "text/plain": [
       "array([0, 1, 2, 3, 4, 5, 6, 7, 8, 9])"
      ]
     },
     "execution_count": 18,
     "metadata": {},
     "output_type": "execute_result"
    }
   ],
   "source": [
    "nm.arange(10) # create array of numbers from 0 to n-1"
   ]
  },
  {
   "cell_type": "code",
   "execution_count": 19,
   "id": "09f5a85f",
   "metadata": {},
   "outputs": [],
   "source": [
    "lspace=nm.linspace(1,5,12) # this will give me  12 equally spaced elements from 1 to 5 "
   ]
  },
  {
   "cell_type": "code",
   "execution_count": 20,
   "id": "1aff52ac",
   "metadata": {},
   "outputs": [
    {
     "data": {
      "text/plain": [
       "array([1.        , 1.36363636, 1.72727273, 2.09090909, 2.45454545,\n",
       "       2.81818182, 3.18181818, 3.54545455, 3.90909091, 4.27272727,\n",
       "       4.63636364, 5.        ])"
      ]
     },
     "execution_count": 20,
     "metadata": {},
     "output_type": "execute_result"
    }
   ],
   "source": [
    "lspace"
   ]
  },
  {
   "cell_type": "code",
   "execution_count": 21,
   "id": "7953369b",
   "metadata": {},
   "outputs": [],
   "source": [
    "em=nm.empty((10)) # will create an array with the random elements of this size and you can initiallise further"
   ]
  },
  {
   "cell_type": "code",
   "execution_count": 22,
   "id": "df94f32a",
   "metadata": {},
   "outputs": [
    {
     "data": {
      "text/plain": [
       "array([0., 0., 0., 0., 0., 0., 0., 0., 0., 0.])"
      ]
     },
     "execution_count": 22,
     "metadata": {},
     "output_type": "execute_result"
    }
   ],
   "source": [
    "em"
   ]
  },
  {
   "cell_type": "code",
   "execution_count": 23,
   "id": "26e3353b",
   "metadata": {},
   "outputs": [],
   "source": [
    "emlike=nm.empty_like(lspace) # create the array of previous type"
   ]
  },
  {
   "cell_type": "code",
   "execution_count": 24,
   "id": "955bee78",
   "metadata": {},
   "outputs": [
    {
     "data": {
      "text/plain": [
       "array([1.        , 1.36363636, 1.72727273, 2.09090909, 2.45454545,\n",
       "       2.81818182, 3.18181818, 3.54545455, 3.90909091, 4.27272727,\n",
       "       4.63636364, 5.        ])"
      ]
     },
     "execution_count": 24,
     "metadata": {},
     "output_type": "execute_result"
    }
   ],
   "source": [
    "emlike"
   ]
  },
  {
   "cell_type": "code",
   "execution_count": 25,
   "id": "8140f39e",
   "metadata": {},
   "outputs": [
    {
     "data": {
      "text/plain": [
       "array([[1., 0., 0., 0., 0.],\n",
       "       [0., 1., 0., 0., 0.],\n",
       "       [0., 0., 1., 0., 0.],\n",
       "       [0., 0., 0., 1., 0.],\n",
       "       [0., 0., 0., 0., 1.]])"
      ]
     },
     "execution_count": 25,
     "metadata": {},
     "output_type": "execute_result"
    }
   ],
   "source": [
    "a=nm.identity((5)) # this will give me the identity matrix of n*n\n",
    "a"
   ]
  },
  {
   "cell_type": "code",
   "execution_count": 26,
   "id": "67fd26c0",
   "metadata": {},
   "outputs": [
    {
     "data": {
      "text/plain": [
       "array([[1., 0., 0., 0.],\n",
       "       [0., 1., 0., 0.],\n",
       "       [0., 0., 1., 0.]])"
      ]
     },
     "execution_count": 26,
     "metadata": {},
     "output_type": "execute_result"
    }
   ],
   "source": [
    "a=nm.eye(3,4) # this will give me the identity matrix of n*m\n",
    "a"
   ]
  },
  {
   "cell_type": "code",
   "execution_count": 27,
   "id": "b4096280",
   "metadata": {},
   "outputs": [
    {
     "data": {
      "text/plain": [
       "array([0.85861069, 0.21689613, 0.65588701, 0.34591908, 0.94019557,\n",
       "       0.7980654 , 0.99652098, 0.84368938, 0.46049891, 0.58433716])"
      ]
     },
     "execution_count": 27,
     "metadata": {},
     "output_type": "execute_result"
    }
   ],
   "source": [
    "a=nm.random.rand(10) # generate random numbers from 0-1\n",
    "a"
   ]
  },
  {
   "cell_type": "code",
   "execution_count": 28,
   "id": "6cf3efc3",
   "metadata": {},
   "outputs": [
    {
     "data": {
      "text/plain": [
       "array([8.41973262, 4.30018523, 2.87935386, 0.80142099, 3.91589996,\n",
       "       6.52431852, 1.42459254, 2.84239869, 9.53793424, 1.7658048 ])"
      ]
     },
     "execution_count": 28,
     "metadata": {},
     "output_type": "execute_result"
    }
   ],
   "source": [
    "a=nm.random.rand(10)*10 # generate random numbers from 0-1 *10 ie 0-10\n",
    "a"
   ]
  },
  {
   "cell_type": "code",
   "execution_count": 29,
   "id": "5f07639e",
   "metadata": {},
   "outputs": [
    {
     "data": {
      "text/plain": [
       "array([[7, 0, 5, 1],\n",
       "       [1, 7, 8, 6],\n",
       "       [1, 8, 4, 9],\n",
       "       [6, 6, 4, 2]])"
      ]
     },
     "execution_count": 29,
     "metadata": {},
     "output_type": "execute_result"
    }
   ],
   "source": [
    "a=nm.random.randint(1,10) # will generate any random number from 1-10\n",
    "a=nm.random.randint(10,size=(4,4)) # for creating random int array ranging from 0-10 of size (4,4)\n",
    "a"
   ]
  },
  {
   "cell_type": "code",
   "execution_count": 30,
   "id": "9f80390b",
   "metadata": {},
   "outputs": [
    {
     "data": {
      "text/plain": [
       "array([ 9, 10, 11, 12, 13, 14, 15, 16, 17, 18, 19, 20, 21, 22, 23, 24, 25,\n",
       "       26, 27, 28, 29, 30, 31, 32, 33, 34, 35, 36, 37, 38, 39, 40, 41, 42,\n",
       "       43, 44, 45, 46, 47, 48, 49])"
      ]
     },
     "execution_count": 30,
     "metadata": {},
     "output_type": "execute_result"
    }
   ],
   "source": [
    "a=nm.arange(9,50)\n",
    "a"
   ]
  },
  {
   "cell_type": "code",
   "execution_count": 31,
   "id": "c990afbb",
   "metadata": {},
   "outputs": [
    {
     "data": {
      "text/plain": [
       "array([1.        , 1.44444444, 1.88888889, 2.33333333, 2.77777778,\n",
       "       3.22222222, 3.66666667, 4.11111111, 4.55555556, 5.        ])"
      ]
     },
     "execution_count": 31,
     "metadata": {},
     "output_type": "execute_result"
    }
   ],
   "source": [
    "a=nm.linspace(1,5,10)\n",
    "a"
   ]
  },
  {
   "cell_type": "code",
   "execution_count": 32,
   "id": "ee4ef027",
   "metadata": {},
   "outputs": [
    {
     "data": {
      "text/plain": [
       "array([1.  , 1.44, 1.89, 2.33, 2.78, 3.22, 3.67, 4.11, 4.56, 5.  ])"
      ]
     },
     "execution_count": 32,
     "metadata": {},
     "output_type": "execute_result"
    }
   ],
   "source": [
    "# rounding  above upto2 decimals | syntax --> numpy.round_(arr, decimals = 0, out = None)\n",
    "b=nm.round(a,decimals=2)\n",
    "b"
   ]
  },
  {
   "cell_type": "code",
   "execution_count": 33,
   "id": "c61151b8",
   "metadata": {},
   "outputs": [
    {
     "name": "stdout",
     "output_type": "stream",
     "text": [
      "[1, 2, 3, 4, 5]\n",
      "[1 2 3 4 5]\n"
     ]
    }
   ],
   "source": [
    "l=[1,2,3,4,5]\n",
    "arr=nm.array(l)\n",
    "print(l)\n",
    "print(arr)"
   ]
  },
  {
   "cell_type": "code",
   "execution_count": 100,
   "id": "9ae9b5ee",
   "metadata": {},
   "outputs": [
    {
     "name": "stdout",
     "output_type": "stream",
     "text": [
      "<memory at 0x000002785C64FD00>\n",
      "1 2 3 4 5\n",
      "(5,)\n",
      "int32\n",
      "(4,)\n"
     ]
    }
   ],
   "source": [
    "print(arr.data) # data -->  which represents the reference/adress of the array\n",
    "print(*arr.data) # data -->  which represents the elements inside the above adress of the array\n",
    "print(arr.shape) # shape --> which represents the size of my array\n",
    "print(arr.dtype) #  dtype --> which represents the data type of array\n",
    "print(arr.strides) # strides --> which represents the number of bytes to be skipped to get to the next element"
   ]
  },
  {
   "cell_type": "code",
   "execution_count": 35,
   "id": "48f982ed",
   "metadata": {},
   "outputs": [
    {
     "name": "stdout",
     "output_type": "stream",
     "text": [
      "<memory at 0x000002785C5DF380>\n",
      "(4, 4)\n",
      "int32\n",
      "(16, 4)\n"
     ]
    }
   ],
   "source": [
    "a=nm.arange(1,17).reshape(4,4)\n",
    "a\n",
    "print(a.data) # data -->  which represents the reference of 1st byte of the array\n",
    "print(a.shape) # shape --> which represents the size of my array\n",
    "print(a.dtype) #  dtype --> which represents the data type of array\n",
    "print(a.strides) # (no.of bytes to be skipped to get to the next row,no.of bytes to be skipped to get to the next element in each row)"
   ]
  },
  {
   "cell_type": "code",
   "execution_count": 102,
   "id": "2e26549d",
   "metadata": {},
   "outputs": [
    {
     "name": "stdout",
     "output_type": "stream",
     "text": [
      "[3, 4, 5]\n",
      "[3 4]\n"
     ]
    }
   ],
   "source": [
    "# You can apply slicing in case of numpy arrays also\n",
    "l=[1,2,3,4,5]\n",
    "ar=nm.array(l)\n",
    "print(l[2:5])\n",
    "print(ar[2:4])"
   ]
  },
  {
   "cell_type": "markdown",
   "id": "0075c198",
   "metadata": {},
   "source": [
    "# Their is slight difference in case of python array and numpy array in 2D list"
   ]
  },
  {
   "cell_type": "code",
   "execution_count": 103,
   "id": "4b2aef05",
   "metadata": {},
   "outputs": [
    {
     "name": "stdout",
     "output_type": "stream",
     "text": [
      "[[1, 2, 3, 4], [5, 6, 7, 8], [9, 10, 11, 12], [13, 14, 15, 16]]\n",
      "[[ 1  2  3  4]\n",
      " [ 5  6  7  8]\n",
      " [ 9 10 11 12]\n",
      " [13 14 15 16]]\n"
     ]
    }
   ],
   "source": [
    "l=[[1,2,3,4],[5,6,7,8],[9,10,11,12],[13,14,15,16]]\n",
    "ar=nm.array(l)\n",
    "print(l)\n",
    "print(ar)"
   ]
  },
  {
   "cell_type": "code",
   "execution_count": 105,
   "id": "75af0a59",
   "metadata": {},
   "outputs": [
    {
     "name": "stdout",
     "output_type": "stream",
     "text": [
      "10\n",
      "10\n",
      "10\n"
     ]
    }
   ],
   "source": [
    "# Suppose if we want to access 10\n",
    "print(l[2][1])\n",
    "print(ar[2][1])\n",
    "print(ar[2,1]) # in case of numpy you can write in this way also but not in normal list"
   ]
  },
  {
   "cell_type": "code",
   "execution_count": 107,
   "id": "505d0db5",
   "metadata": {},
   "outputs": [
    {
     "name": "stdout",
     "output_type": "stream",
     "text": [
      "[5, 6, 7]\n",
      "[5 6 7]\n"
     ]
    }
   ],
   "source": [
    "# Suppose if we want to access 5,6,7\n",
    "print(l[1][:3])\n",
    "print(ar[1,:3]) # we can do like this in case of numpy"
   ]
  },
  {
   "cell_type": "code",
   "execution_count": 110,
   "id": "749b92df",
   "metadata": {},
   "outputs": [
    {
     "name": "stdout",
     "output_type": "stream",
     "text": [
      "[13, 14, 15, 16]\n",
      "[[1, 2, 3, 4], [5, 6, 7, 8], [9, 10, 11, 12], [13, 14, 15, 16]]\n",
      "[13, 14, 15, 16]\n"
     ]
    }
   ],
   "source": [
    "# Suppose if we want to access 4,8,12,16\n",
    "print(l[:][3]) # this is not giving me the desired output as it is fixing the row and iterating over the columns ie --> eg.\n",
    "x=l[:]\n",
    "y=x[3]\n",
    "print(x)\n",
    "print(y)"
   ]
  },
  {
   "cell_type": "code",
   "execution_count": 118,
   "id": "0ab51167",
   "metadata": {},
   "outputs": [
    {
     "name": "stdout",
     "output_type": "stream",
     "text": [
      "[ 4  8 12 16]\n"
     ]
    }
   ],
   "source": [
    "# but we will get the correct ans in case of numpy\n",
    "print(ar[:,3])  # ie ar[row number from starting to end,column number for that row]"
   ]
  },
  {
   "cell_type": "code",
   "execution_count": 120,
   "id": "b405141d",
   "metadata": {},
   "outputs": [
    {
     "name": "stdout",
     "output_type": "stream",
     "text": [
      "[[10 11]\n",
      " [14 15]]\n"
     ]
    }
   ],
   "source": [
    "# suppose we want to get 10,11,14,15 --> we can get it using numpy array ie\n",
    "print(ar[2:,1:3])"
   ]
  },
  {
   "cell_type": "code",
   "execution_count": 121,
   "id": "3682c5e4",
   "metadata": {},
   "outputs": [
    {
     "data": {
      "text/plain": [
       "array([[ 1,  2,  3,  4,  5],\n",
       "       [ 6,  7,  8,  9, 10],\n",
       "       [11, 12, 13, 14, 15],\n",
       "       [16, 17, 18, 19, 20]])"
      ]
     },
     "execution_count": 121,
     "metadata": {},
     "output_type": "execute_result"
    }
   ],
   "source": [
    "# PRACTICE\n",
    "n=nm.arange(1,21).reshape(4,5)\n",
    "n"
   ]
  },
  {
   "cell_type": "code",
   "execution_count": 127,
   "id": "1fbef4ff",
   "metadata": {},
   "outputs": [
    {
     "name": "stdout",
     "output_type": "stream",
     "text": [
      "[11 12 13]\n",
      "[ 9 14 19]\n",
      "[[11 12 13 14 15]\n",
      " [16 17 18 19 20]]\n",
      "[[ 7  8]\n",
      " [12 13]]\n"
     ]
    }
   ],
   "source": [
    "# Print 11,12,13\n",
    "print(n[2,:3])\n",
    "# Print 9,14,19\n",
    "print(n[1:,3])\n",
    "# Print 11-15 and 16-20\n",
    "print(n[2:,:])\n",
    "# Print 7,8,12,13\n",
    "print(n[1:3,1:3])"
   ]
  },
  {
   "cell_type": "markdown",
   "id": "53196813",
   "metadata": {},
   "source": [
    "# Mathematical Operrations"
   ]
  },
  {
   "cell_type": "code",
   "execution_count": 129,
   "id": "8e87dfaa",
   "metadata": {},
   "outputs": [
    {
     "name": "stdout",
     "output_type": "stream",
     "text": [
      "[12  9 17 16 13]\n",
      "[18 12 10  1  3]\n"
     ]
    }
   ],
   "source": [
    "li=[1,2,3,4,5]\n",
    "a=nm.random.randint(1,20,5)\n",
    "b=nm.random.randint(1,20,5)\n",
    "print(a)\n",
    "print(b)"
   ]
  },
  {
   "cell_type": "code",
   "execution_count": 130,
   "id": "7e65ee75",
   "metadata": {},
   "outputs": [
    {
     "name": "stdout",
     "output_type": "stream",
     "text": [
      "[2, 3, 4, 5, 6]\n"
     ]
    }
   ],
   "source": [
    "li=[i+1 for i in li] # you have to iterate through each element to add 1 but for numpy array you dont have to iterate \n",
    "print(li)"
   ]
  },
  {
   "cell_type": "code",
   "execution_count": 131,
   "id": "bff1adec",
   "metadata": {},
   "outputs": [
    {
     "name": "stdout",
     "output_type": "stream",
     "text": [
      "[13 10 18 17 14]\n"
     ]
    }
   ],
   "source": [
    "a=a+1\n",
    "print(a)"
   ]
  },
  {
   "cell_type": "code",
   "execution_count": 133,
   "id": "991acb5d",
   "metadata": {},
   "outputs": [
    {
     "name": "stdout",
     "output_type": "stream",
     "text": [
      "[31 22 28 18 17]\n",
      "[-5 -2  8 16 11]\n",
      "[ 0.72222222  0.83333333  1.8        17.          4.66666667]\n",
      "[ 0  0  1 17  4]\n",
      "[ -76943639 -727379968 1349403648         17       2744]\n"
     ]
    }
   ],
   "source": [
    "# You can also perform alot of operations using numpy arrays like\n",
    "c=a+b\n",
    "print(c)\n",
    "c=a-b\n",
    "print(c)\n",
    "c=a/b\n",
    "print(c)\n",
    "c=a//b\n",
    "print(c)\n",
    "c=a**b\n",
    "print(c)\n"
   ]
  },
  {
   "cell_type": "code",
   "execution_count": 138,
   "id": "7f2c97b9",
   "metadata": {},
   "outputs": [
    {
     "name": "stdout",
     "output_type": "stream",
     "text": [
      "[13 10 18 17 14]\n",
      "18\n",
      "2\n",
      "10\n",
      "1\n",
      "14.4\n",
      "72\n"
     ]
    }
   ],
   "source": [
    "print(a)               # You can perform multiple operations using numpy array\n",
    "print(a.max())\n",
    "print(a.argmax())\n",
    "print(a.min())\n",
    "print(a.argmin())\n",
    "print(a.mean())\n",
    "print(a.sum())"
   ]
  },
  {
   "cell_type": "code",
   "execution_count": 139,
   "id": "0b655913",
   "metadata": {},
   "outputs": [
    {
     "name": "stdout",
     "output_type": "stream",
     "text": [
      "[13 10 18 17 14]\n",
      "[18 12 10  1  3]\n"
     ]
    }
   ],
   "source": [
    "# You can also perform the relational operations and logical operations\n",
    "print(a)\n",
    "print(b)"
   ]
  },
  {
   "cell_type": "code",
   "execution_count": 140,
   "id": "9b34be54",
   "metadata": {},
   "outputs": [
    {
     "data": {
      "text/plain": [
       "array([False, False,  True,  True,  True])"
      ]
     },
     "execution_count": 140,
     "metadata": {},
     "output_type": "execute_result"
    }
   ],
   "source": [
    "a>b"
   ]
  },
  {
   "cell_type": "code",
   "execution_count": 141,
   "id": "be4f7d6a",
   "metadata": {},
   "outputs": [
    {
     "data": {
      "text/plain": [
       "array([ True,  True, False, False, False])"
      ]
     },
     "execution_count": 141,
     "metadata": {},
     "output_type": "execute_result"
    }
   ],
   "source": [
    "a<b"
   ]
  },
  {
   "cell_type": "code",
   "execution_count": 142,
   "id": "28990e1d",
   "metadata": {},
   "outputs": [
    {
     "data": {
      "text/plain": [
       "array([False, False, False, False, False])"
      ]
     },
     "execution_count": 142,
     "metadata": {},
     "output_type": "execute_result"
    }
   ],
   "source": [
    "a==b"
   ]
  },
  {
   "cell_type": "code",
   "execution_count": 144,
   "id": "adf4c901",
   "metadata": {},
   "outputs": [
    {
     "name": "stdout",
     "output_type": "stream",
     "text": [
      "[ True  True  True  True  True]\n",
      "[False False False False False]\n",
      "[False False False False False]\n"
     ]
    }
   ],
   "source": [
    "# You can also perform the logical operations using logical_or <--> logical_and <--> logical_not\n",
    "print(nm.logical_or(a,b))\n",
    "print(nm.logical_and(a,b))\n",
    "print(nm.logical_not(a))"
   ]
  },
  {
   "cell_type": "markdown",
   "id": "9dc5527f",
   "metadata": {},
   "source": [
    "\n",
    "# Boolean Indexing"
   ]
  },
  {
   "cell_type": "code",
   "execution_count": 147,
   "id": "b09dd4e6",
   "metadata": {},
   "outputs": [
    {
     "name": "stdout",
     "output_type": "stream",
     "text": [
      "['a' 'b' 'c' 'd' 'e' 'f' 'g' 'h']\n",
      "[15  6 16 18 12 11 16 15]\n"
     ]
    }
   ],
   "source": [
    "a=nm.array(['a','b','c','d','e','f','g','h'])\n",
    "b=nm.random.randint(1,20,8)\n",
    "print(a)\n",
    "\n",
    "print(b)"
   ]
  },
  {
   "cell_type": "code",
   "execution_count": 150,
   "id": "366b4447",
   "metadata": {},
   "outputs": [
    {
     "name": "stdout",
     "output_type": "stream",
     "text": [
      "[ True False  True  True  True  True  True  True]\n",
      "[15 16 18 12 11 16 15]\n"
     ]
    }
   ],
   "source": [
    "bool_arr=b>10\n",
    "print(bool_arr) # or print(b>10)\n",
    "# suppose if I want to extract all the elements of array which are greater than 10\n",
    "new_ar=b[bool_arr]\n",
    "print(new_ar)"
   ]
  },
  {
   "cell_type": "code",
   "execution_count": 153,
   "id": "a428c509",
   "metadata": {},
   "outputs": [
    {
     "name": "stdout",
     "output_type": "stream",
     "text": [
      "[12 11]\n"
     ]
    }
   ],
   "source": [
    "new_arr=b[(b>10) & (b<15)]\n",
    "print(new_arr)"
   ]
  },
  {
   "cell_type": "code",
   "execution_count": 158,
   "id": "e8f8028d",
   "metadata": {},
   "outputs": [
    {
     "name": "stdout",
     "output_type": "stream",
     "text": [
      "[ 19  19  19 100  12  11 100 100]\n",
      "[100 100 100 100  12  11 100 100]\n",
      "[100 100 100 100 100 100]\n",
      "(array([0, 1, 2, 3, 6, 7], dtype=int64),)\n",
      "['a' 'b' 'c' 'd' 'g' 'h']\n"
     ]
    }
   ],
   "source": [
    "c=b\n",
    "c[:3]=19 # you can also update multiple elements in one go\n",
    "print(c)\n",
    "c[c>14]=100\n",
    "print(c)\n",
    "print(c[c==100])\n",
    "# if you want to print indexes where c==100\n",
    "indx=nm.where(c==100) # indeces where c==100\n",
    "print(indx)\n",
    "# suppose if you want to print a[i] only when b[i]==100\n",
    "d=a[indx]\n",
    "print(d)"
   ]
  },
  {
   "cell_type": "code",
   "execution_count": 168,
   "id": "7c15403f",
   "metadata": {},
   "outputs": [
    {
     "name": "stdout",
     "output_type": "stream",
     "text": [
      "[ 1  2  3  4  5  6  7  8  9 10]\n",
      "[-1  2 -1  4 -1  6 -1  8 -1 10]\n"
     ]
    }
   ],
   "source": [
    "# replace odd integers with -1\n",
    "x=nm.arange(1,11)\n",
    "print(x)\n",
    "x[nm.where(x%2!=0)]=-1\n",
    "print(x)"
   ]
  },
  {
   "cell_type": "code",
   "execution_count": 179,
   "id": "598f6bb4",
   "metadata": {},
   "outputs": [
    {
     "name": "stdout",
     "output_type": "stream",
     "text": [
      "age [16 16 18 16 18 15 15 19 15 17 17 16 18 18 16 19 15 19 16 15]\n",
      "height [121 187 182 127 130 134 131 186 142 154 147 198 193 162 140 141 128 194\n",
      " 145 171]\n",
      "(array([ 1,  2,  7, 11, 12, 13, 17, 19], dtype=int64),)\n",
      "[16 18 19 16 18 18 19 15]\n"
     ]
    }
   ],
   "source": [
    "age=nm.random.randint(15,20,20)\n",
    "height=nm.random.randint(120,200,20)\n",
    "print(\"age\",age)\n",
    "print(\"height\",height)\n",
    "print(nm.where(height>155))\n",
    "print(age[nm.where(height>155)])"
   ]
  },
  {
   "cell_type": "markdown",
   "id": "5d235665",
   "metadata": {},
   "source": [
    "# Boolean Expression For 2D array"
   ]
  },
  {
   "cell_type": "code",
   "execution_count": 201,
   "id": "6a9f93c6",
   "metadata": {},
   "outputs": [
    {
     "name": "stdout",
     "output_type": "stream",
     "text": [
      "[[18 23  7 17 12 28]\n",
      " [ 7 25 14 29  1 18]\n",
      " [ 3 14 21 17 24  2]\n",
      " [ 6 24  9  1 19 29]\n",
      " [ 6 27 28 10 16 13]]\n"
     ]
    }
   ],
   "source": [
    "a=nm.random.randint(1,30,(5,6))\n",
    "print(a)"
   ]
  },
  {
   "cell_type": "code",
   "execution_count": 202,
   "id": "efca1e13",
   "metadata": {},
   "outputs": [
    {
     "data": {
      "text/plain": [
       "array([[False,  True, False, False, False,  True],\n",
       "       [False,  True, False,  True, False, False],\n",
       "       [False, False,  True, False,  True, False],\n",
       "       [False,  True, False, False, False,  True],\n",
       "       [False,  True,  True, False, False, False]])"
      ]
     },
     "execution_count": 202,
     "metadata": {},
     "output_type": "execute_result"
    }
   ],
   "source": [
    "a>20"
   ]
  },
  {
   "cell_type": "code",
   "execution_count": 203,
   "id": "dc88c20f",
   "metadata": {},
   "outputs": [
    {
     "data": {
      "text/plain": [
       "array([23, 28, 25, 29, 21, 24, 24, 29, 27, 28])"
      ]
     },
     "execution_count": 203,
     "metadata": {},
     "output_type": "execute_result"
    }
   ],
   "source": [
    "b=a[a>20]\n",
    "b"
   ]
  },
  {
   "cell_type": "code",
   "execution_count": 204,
   "id": "1ba7c431",
   "metadata": {},
   "outputs": [
    {
     "data": {
      "text/plain": [
       "array([[ 18, 100,   7,  17,  12, 100],\n",
       "       [  7, 100,  14, 100,   1,  18],\n",
       "       [  3,  14, 100,  17, 100,   2],\n",
       "       [  6, 100,   9,   1,  19, 100],\n",
       "       [  6, 100, 100,  10,  16,  13]])"
      ]
     },
     "execution_count": 204,
     "metadata": {},
     "output_type": "execute_result"
    }
   ],
   "source": [
    "# suppose if you want to update the value if b>20 replace it with 100\n",
    "d=a\n",
    "d[d>20]=100\n",
    "d\n"
   ]
  },
  {
   "cell_type": "code",
   "execution_count": 205,
   "id": "e5b2ed2e",
   "metadata": {},
   "outputs": [
    {
     "data": {
      "text/plain": [
       "array([False,  True, False, False, False])"
      ]
     },
     "execution_count": 205,
     "metadata": {},
     "output_type": "execute_result"
    }
   ],
   "source": [
    "bool_arr=d[:,3]==100 # if you want to perform operation for the particular row or column or both not all you canuse slicing\n",
    "bool_arr"
   ]
  },
  {
   "cell_type": "code",
   "execution_count": 206,
   "id": "f12a693e",
   "metadata": {},
   "outputs": [
    {
     "data": {
      "text/plain": [
       "array([[ 18, 100,   7,  17,  12, 100],\n",
       "       [  7, 100,  14,  99,   1,  18],\n",
       "       [  3,  14, 100,  17, 100,   2],\n",
       "       [  6, 100,   9,   1,  19, 100],\n",
       "       [  6, 100, 100,  10,  16,  13]])"
      ]
     },
     "execution_count": 206,
     "metadata": {},
     "output_type": "execute_result"
    }
   ],
   "source": [
    "d[bool_arr,3]=99\n",
    "d"
   ]
  },
  {
   "cell_type": "code",
   "execution_count": 220,
   "id": "c799012c",
   "metadata": {},
   "outputs": [
    {
     "name": "stdout",
     "output_type": "stream",
     "text": [
      "[[21 20 19 18 17]\n",
      " [16 15 14 13 12]\n",
      " [11 10  9  8  7]\n",
      " [ 6  5  4  3  2]]\n"
     ]
    }
   ],
   "source": [
    "# IMP... Sort the given 2D array in the acsending order of the 2nd column(index=1) elements\n",
    "x=nm.arange(21,1,-1).reshape(4,5)\n",
    "print(x)"
   ]
  },
  {
   "cell_type": "code",
   "execution_count": 221,
   "id": "7fe4c62f",
   "metadata": {},
   "outputs": [
    {
     "name": "stdout",
     "output_type": "stream",
     "text": [
      "[3 2 1 0]\n"
     ]
    }
   ],
   "source": [
    "idx=x[:,1].argsort() # will return the order of indexes of the elements so as to be the sorted order\n",
    "print(idx)"
   ]
  },
  {
   "cell_type": "code",
   "execution_count": 222,
   "id": "9a5cf803",
   "metadata": {},
   "outputs": [
    {
     "data": {
      "text/plain": [
       "array([[ 6,  5,  4,  3,  2],\n",
       "       [11, 10,  9,  8,  7],\n",
       "       [16, 15, 14, 13, 12],\n",
       "       [21, 20, 19, 18, 17]])"
      ]
     },
     "execution_count": 222,
     "metadata": {},
     "output_type": "execute_result"
    }
   ],
   "source": [
    "x=x[idx]\n",
    "x"
   ]
  },
  {
   "cell_type": "markdown",
   "id": "a6689c56",
   "metadata": {},
   "source": [
    "# Broadcasting"
   ]
  },
  {
   "cell_type": "code",
   "execution_count": 224,
   "id": "4bc0ac84",
   "metadata": {},
   "outputs": [],
   "source": [
    "# For performing operation on 2 arrays n*m either the order shoud be same ie (m*n) or any one having (m*1) or (1*m)\n",
    "# in case of (1*m) or (m*1) broadcasting is performed ie the elements in the single row or column are replicated such that size\n",
    "# could be matched"
   ]
  },
  {
   "cell_type": "code",
   "execution_count": 228,
   "id": "bb3bb13c",
   "metadata": {},
   "outputs": [
    {
     "name": "stdout",
     "output_type": "stream",
     "text": [
      "['a' 'b' 'c' 'd' 'e' 'f' 'g' 'h']\n"
     ]
    }
   ],
   "source": [
    "f=nm.array(['a','b','c','d','e','f','g','h'])\n",
    "f.sort()\n",
    "print(f)"
   ]
  },
  {
   "cell_type": "code",
   "execution_count": 230,
   "id": "ab012f55",
   "metadata": {},
   "outputs": [
    {
     "data": {
      "text/plain": [
       "array([1, 3, 4])"
      ]
     },
     "execution_count": 230,
     "metadata": {},
     "output_type": "execute_result"
    }
   ],
   "source": [
    "s=nm.array(['1','3','4'],dtype=int)\n",
    "s"
   ]
  },
  {
   "cell_type": "code",
   "execution_count": 237,
   "id": "896bbfd7",
   "metadata": {},
   "outputs": [
    {
     "data": {
      "text/plain": [
       "array([3., 3.])"
      ]
     },
     "execution_count": 237,
     "metadata": {},
     "output_type": "execute_result"
    }
   ],
   "source": [
    "a=nm.array([])\n",
    "a=nm.append(a,3)\n",
    "a=nm.append(a,3)\n",
    "a\n",
    "\n"
   ]
  },
  {
   "cell_type": "code",
   "execution_count": null,
   "id": "c277c275",
   "metadata": {},
   "outputs": [],
   "source": []
  },
  {
   "cell_type": "code",
   "execution_count": null,
   "id": "94fbee0f",
   "metadata": {},
   "outputs": [],
   "source": []
  },
  {
   "cell_type": "code",
   "execution_count": null,
   "id": "f389e2a2",
   "metadata": {},
   "outputs": [],
   "source": []
  },
  {
   "cell_type": "code",
   "execution_count": null,
   "id": "ef8a263f",
   "metadata": {},
   "outputs": [],
   "source": []
  },
  {
   "cell_type": "code",
   "execution_count": null,
   "id": "b505da32",
   "metadata": {},
   "outputs": [],
   "source": []
  },
  {
   "cell_type": "code",
   "execution_count": null,
   "id": "bc8cb57a",
   "metadata": {},
   "outputs": [],
   "source": []
  },
  {
   "cell_type": "code",
   "execution_count": null,
   "id": "4b90e686",
   "metadata": {},
   "outputs": [],
   "source": []
  },
  {
   "cell_type": "code",
   "execution_count": null,
   "id": "455254cc",
   "metadata": {},
   "outputs": [],
   "source": []
  },
  {
   "cell_type": "code",
   "execution_count": null,
   "id": "31a4ffe8",
   "metadata": {},
   "outputs": [],
   "source": []
  },
  {
   "cell_type": "code",
   "execution_count": null,
   "id": "955fe50e",
   "metadata": {},
   "outputs": [],
   "source": []
  },
  {
   "cell_type": "code",
   "execution_count": 37,
   "id": "8df2dd6e",
   "metadata": {},
   "outputs": [
    {
     "data": {
      "text/plain": [
       "(4, 4)"
      ]
     },
     "execution_count": 37,
     "metadata": {},
     "output_type": "execute_result"
    }
   ],
   "source": [
    "a.shape # will give me the (no. of rows,no. of columns) of a matrix"
   ]
  },
  {
   "cell_type": "code",
   "execution_count": 38,
   "id": "96be6aaa",
   "metadata": {},
   "outputs": [],
   "source": [
    "a=nm.arange(99)"
   ]
  },
  {
   "cell_type": "code",
   "execution_count": 39,
   "id": "511ba4ec",
   "metadata": {},
   "outputs": [
    {
     "data": {
      "text/plain": [
       "array([ 0,  1,  2,  3,  4,  5,  6,  7,  8,  9, 10, 11, 12, 13, 14, 15, 16,\n",
       "       17, 18, 19, 20, 21, 22, 23, 24, 25, 26, 27, 28, 29, 30, 31, 32, 33,\n",
       "       34, 35, 36, 37, 38, 39, 40, 41, 42, 43, 44, 45, 46, 47, 48, 49, 50,\n",
       "       51, 52, 53, 54, 55, 56, 57, 58, 59, 60, 61, 62, 63, 64, 65, 66, 67,\n",
       "       68, 69, 70, 71, 72, 73, 74, 75, 76, 77, 78, 79, 80, 81, 82, 83, 84,\n",
       "       85, 86, 87, 88, 89, 90, 91, 92, 93, 94, 95, 96, 97, 98])"
      ]
     },
     "execution_count": 39,
     "metadata": {},
     "output_type": "execute_result"
    }
   ],
   "source": [
    "a"
   ]
  },
  {
   "cell_type": "code",
   "execution_count": 40,
   "id": "953c39d9",
   "metadata": {},
   "outputs": [],
   "source": [
    "a=a.reshape(3,33) # this will convert the list into 3 rows having 33 columns each ->condition: n*m=value given above ie 3*33=99"
   ]
  },
  {
   "cell_type": "code",
   "execution_count": 41,
   "id": "a4cfd73d",
   "metadata": {},
   "outputs": [
    {
     "data": {
      "text/plain": [
       "array([[ 0,  1,  2,  3,  4,  5,  6,  7,  8,  9, 10, 11, 12, 13, 14, 15,\n",
       "        16, 17, 18, 19, 20, 21, 22, 23, 24, 25, 26, 27, 28, 29, 30, 31,\n",
       "        32],\n",
       "       [33, 34, 35, 36, 37, 38, 39, 40, 41, 42, 43, 44, 45, 46, 47, 48,\n",
       "        49, 50, 51, 52, 53, 54, 55, 56, 57, 58, 59, 60, 61, 62, 63, 64,\n",
       "        65],\n",
       "       [66, 67, 68, 69, 70, 71, 72, 73, 74, 75, 76, 77, 78, 79, 80, 81,\n",
       "        82, 83, 84, 85, 86, 87, 88, 89, 90, 91, 92, 93, 94, 95, 96, 97,\n",
       "        98]])"
      ]
     },
     "execution_count": 41,
     "metadata": {},
     "output_type": "execute_result"
    }
   ],
   "source": [
    "a"
   ]
  },
  {
   "cell_type": "code",
   "execution_count": 42,
   "id": "10346dbe",
   "metadata": {},
   "outputs": [],
   "source": [
    "a=a.ravel() # convert back into 1d array"
   ]
  },
  {
   "cell_type": "code",
   "execution_count": 43,
   "id": "df7b3bf9",
   "metadata": {},
   "outputs": [
    {
     "data": {
      "text/plain": [
       "array([ 0,  1,  2,  3,  4,  5,  6,  7,  8,  9, 10, 11, 12, 13, 14, 15, 16,\n",
       "       17, 18, 19, 20, 21, 22, 23, 24, 25, 26, 27, 28, 29, 30, 31, 32, 33,\n",
       "       34, 35, 36, 37, 38, 39, 40, 41, 42, 43, 44, 45, 46, 47, 48, 49, 50,\n",
       "       51, 52, 53, 54, 55, 56, 57, 58, 59, 60, 61, 62, 63, 64, 65, 66, 67,\n",
       "       68, 69, 70, 71, 72, 73, 74, 75, 76, 77, 78, 79, 80, 81, 82, 83, 84,\n",
       "       85, 86, 87, 88, 89, 90, 91, 92, 93, 94, 95, 96, 97, 98])"
      ]
     },
     "execution_count": 43,
     "metadata": {},
     "output_type": "execute_result"
    }
   ],
   "source": [
    "a"
   ]
  },
  {
   "cell_type": "code",
   "execution_count": 44,
   "id": "9c801ab9",
   "metadata": {},
   "outputs": [
    {
     "data": {
      "text/plain": [
       "(99,)"
      ]
     },
     "execution_count": 44,
     "metadata": {},
     "output_type": "execute_result"
    }
   ],
   "source": [
    "a.shape"
   ]
  },
  {
   "cell_type": "markdown",
   "id": "0479e211",
   "metadata": {},
   "source": [
    "# Axis "
   ]
  },
  {
   "cell_type": "code",
   "execution_count": 45,
   "id": "695783ed",
   "metadata": {},
   "outputs": [],
   "source": [
    "x=[[1,2,3],[4,5,6],[7,8,9]] # For 1d array axis=0 but for 2 d array top to bottom ie column wise --> axis 0 and\n",
    "                            # left to right ie row wise --> axis 1"
   ]
  },
  {
   "cell_type": "code",
   "execution_count": 46,
   "id": "31cea73d",
   "metadata": {},
   "outputs": [],
   "source": [
    "a=nm.array(x)"
   ]
  },
  {
   "cell_type": "code",
   "execution_count": 47,
   "id": "8ee5994f",
   "metadata": {},
   "outputs": [
    {
     "data": {
      "text/plain": [
       "array([[1, 2, 3],\n",
       "       [4, 5, 6],\n",
       "       [7, 8, 9]])"
      ]
     },
     "execution_count": 47,
     "metadata": {},
     "output_type": "execute_result"
    }
   ],
   "source": [
    "a"
   ]
  },
  {
   "cell_type": "code",
   "execution_count": 48,
   "id": "a61a693b",
   "metadata": {},
   "outputs": [
    {
     "name": "stdout",
     "output_type": "stream",
     "text": [
      "[12 15 18] [ 6 15 24]\n"
     ]
    }
   ],
   "source": [
    "print(a.sum(axis=0),a.sum(axis=1))"
   ]
  },
  {
   "cell_type": "code",
   "execution_count": 49,
   "id": "fad8bd92",
   "metadata": {},
   "outputs": [],
   "source": [
    "a=a.T # this will transpose my array"
   ]
  },
  {
   "cell_type": "code",
   "execution_count": 50,
   "id": "595ef810",
   "metadata": {},
   "outputs": [
    {
     "ename": "NameError",
     "evalue": "name 'array' is not defined",
     "output_type": "error",
     "traceback": [
      "\u001b[1;31m---------------------------------------------------------------------------\u001b[0m",
      "\u001b[1;31mNameError\u001b[0m                                 Traceback (most recent call last)",
      "\u001b[1;32m~\\AppData\\Local\\Temp/ipykernel_888/3849172467.py\u001b[0m in \u001b[0;36m<module>\u001b[1;34m\u001b[0m\n\u001b[1;32m----> 1\u001b[1;33m \u001b[0marray\u001b[0m\u001b[1;33m\u001b[0m\u001b[1;33m\u001b[0m\u001b[0m\n\u001b[0m",
      "\u001b[1;31mNameError\u001b[0m: name 'array' is not defined"
     ]
    }
   ],
   "source": [
    "array "
   ]
  },
  {
   "cell_type": "code",
   "execution_count": null,
   "id": "4353c799",
   "metadata": {},
   "outputs": [],
   "source": [
    "a"
   ]
  },
  {
   "cell_type": "code",
   "execution_count": null,
   "id": "5945d552",
   "metadata": {},
   "outputs": [],
   "source": [
    "for i in a.flat: # .flat will give me the iterator and you can print all the elements of the array wheather 2D or 1d\n",
    "    print(i)"
   ]
  },
  {
   "cell_type": "code",
   "execution_count": 51,
   "id": "6db540f8",
   "metadata": {},
   "outputs": [
    {
     "name": "stdout",
     "output_type": "stream",
     "text": [
      "[1 4 7]\n",
      "[2 5 8]\n",
      "[3 6 9]\n"
     ]
    }
   ],
   "source": [
    "for i in a:\n",
    "    print(i)"
   ]
  },
  {
   "cell_type": "code",
   "execution_count": 52,
   "id": "a04b0ede",
   "metadata": {},
   "outputs": [
    {
     "data": {
      "text/plain": [
       "2"
      ]
     },
     "execution_count": 52,
     "metadata": {},
     "output_type": "execute_result"
    }
   ],
   "source": [
    "a.ndim # will print dimension of array"
   ]
  },
  {
   "cell_type": "code",
   "execution_count": 53,
   "id": "85e70191",
   "metadata": {},
   "outputs": [
    {
     "data": {
      "text/plain": [
       "36"
      ]
     },
     "execution_count": 53,
     "metadata": {},
     "output_type": "execute_result"
    }
   ],
   "source": [
    "a.nbytes # this will give the total bytes consumed by the array"
   ]
  },
  {
   "cell_type": "markdown",
   "id": "effd27bd",
   "metadata": {},
   "source": [
    "# Attributes\n"
   ]
  },
  {
   "cell_type": "code",
   "execution_count": 54,
   "id": "b97ab0d3",
   "metadata": {},
   "outputs": [],
   "source": [
    "one =nm.array([1,5,522,2,5])\n"
   ]
  },
  {
   "cell_type": "code",
   "execution_count": 55,
   "id": "c11c211e",
   "metadata": {},
   "outputs": [
    {
     "data": {
      "text/plain": [
       "2"
      ]
     },
     "execution_count": 55,
     "metadata": {},
     "output_type": "execute_result"
    }
   ],
   "source": [
    "one.argmax() # will return the index of maximum element"
   ]
  },
  {
   "cell_type": "code",
   "execution_count": 56,
   "id": "d756fbbf",
   "metadata": {},
   "outputs": [
    {
     "data": {
      "text/plain": [
       "0"
      ]
     },
     "execution_count": 56,
     "metadata": {},
     "output_type": "execute_result"
    }
   ],
   "source": [
    "one.argmin() # will return the index of minimum element"
   ]
  },
  {
   "cell_type": "code",
   "execution_count": 57,
   "id": "fe1d1420",
   "metadata": {},
   "outputs": [
    {
     "data": {
      "text/plain": [
       "array([0, 3, 1, 4, 2], dtype=int64)"
      ]
     },
     "execution_count": 57,
     "metadata": {},
     "output_type": "execute_result"
    }
   ],
   "source": [
    "one.argsort() # will return the indices of the elements in the ascending order "
   ]
  },
  {
   "cell_type": "code",
   "execution_count": 58,
   "id": "9e791402",
   "metadata": {},
   "outputs": [],
   "source": [
    "one.sort()"
   ]
  },
  {
   "cell_type": "code",
   "execution_count": 59,
   "id": "c6ee6b07",
   "metadata": {},
   "outputs": [
    {
     "data": {
      "text/plain": [
       "array([  1,   2,   5,   5, 522])"
      ]
     },
     "execution_count": 59,
     "metadata": {},
     "output_type": "execute_result"
    }
   ],
   "source": [
    "one"
   ]
  },
  {
   "cell_type": "code",
   "execution_count": 60,
   "id": "c60d6af9",
   "metadata": {},
   "outputs": [
    {
     "data": {
      "text/plain": [
       "522"
      ]
     },
     "execution_count": 60,
     "metadata": {},
     "output_type": "execute_result"
    }
   ],
   "source": [
    "one.max()"
   ]
  },
  {
   "cell_type": "code",
   "execution_count": 61,
   "id": "ba0b2f1a",
   "metadata": {},
   "outputs": [
    {
     "data": {
      "text/plain": [
       "1"
      ]
     },
     "execution_count": 61,
     "metadata": {},
     "output_type": "execute_result"
    }
   ],
   "source": [
    "one.min()"
   ]
  },
  {
   "cell_type": "code",
   "execution_count": 62,
   "id": "b5debe05",
   "metadata": {},
   "outputs": [],
   "source": [
    "ar=nm.array([[1,2,3],[4,5,6],[7,1,0]],nm.int8)"
   ]
  },
  {
   "cell_type": "code",
   "execution_count": 63,
   "id": "4f34c71b",
   "metadata": {},
   "outputs": [
    {
     "data": {
      "text/plain": [
       "array([[1, 2, 3],\n",
       "       [4, 5, 6],\n",
       "       [7, 1, 0]], dtype=int8)"
      ]
     },
     "execution_count": 63,
     "metadata": {},
     "output_type": "execute_result"
    }
   ],
   "source": [
    "ar"
   ]
  },
  {
   "cell_type": "code",
   "execution_count": 64,
   "id": "39a58d5a",
   "metadata": {},
   "outputs": [
    {
     "data": {
      "text/plain": [
       "8"
      ]
     },
     "execution_count": 64,
     "metadata": {},
     "output_type": "execute_result"
    }
   ],
   "source": [
    "ar.argmin() # it will first convert it into 1d array and then give the index of min element"
   ]
  },
  {
   "cell_type": "code",
   "execution_count": 65,
   "id": "7ddf2c62",
   "metadata": {},
   "outputs": [
    {
     "data": {
      "text/plain": [
       "6"
      ]
     },
     "execution_count": 65,
     "metadata": {},
     "output_type": "execute_result"
    }
   ],
   "source": [
    "ar.argmax() # it will first convert it into 1d array and then give the index of max element"
   ]
  },
  {
   "cell_type": "code",
   "execution_count": 66,
   "id": "cc869400",
   "metadata": {},
   "outputs": [
    {
     "data": {
      "text/plain": [
       "array([[0, 1, 2],\n",
       "       [0, 1, 2],\n",
       "       [2, 1, 0]], dtype=int64)"
      ]
     },
     "execution_count": 66,
     "metadata": {},
     "output_type": "execute_result"
    }
   ],
   "source": [
    "ar.argsort() # this give the order of ideces which tells the elements of that index should be like this for the ascending order"
   ]
  },
  {
   "cell_type": "code",
   "execution_count": 67,
   "id": "3e2b3858",
   "metadata": {},
   "outputs": [],
   "source": [
    "ar.sort(axis=0) # elements get sorted along the columns"
   ]
  },
  {
   "cell_type": "code",
   "execution_count": 68,
   "id": "b876b4ca",
   "metadata": {},
   "outputs": [
    {
     "data": {
      "text/plain": [
       "array([[1, 1, 0],\n",
       "       [4, 2, 3],\n",
       "       [7, 5, 6]], dtype=int8)"
      ]
     },
     "execution_count": 68,
     "metadata": {},
     "output_type": "execute_result"
    }
   ],
   "source": [
    "ar"
   ]
  },
  {
   "cell_type": "code",
   "execution_count": 69,
   "id": "5955aa3e",
   "metadata": {},
   "outputs": [
    {
     "data": {
      "text/plain": [
       "array([1, 1, 0, 4, 2, 3, 7, 5, 6], dtype=int8)"
      ]
     },
     "execution_count": 69,
     "metadata": {},
     "output_type": "execute_result"
    }
   ],
   "source": [
    "ar.ravel()"
   ]
  },
  {
   "cell_type": "code",
   "execution_count": 70,
   "id": "685f7df9",
   "metadata": {},
   "outputs": [
    {
     "data": {
      "text/plain": [
       "array([[1],\n",
       "       [1],\n",
       "       [0],\n",
       "       [4],\n",
       "       [2],\n",
       "       [3],\n",
       "       [7],\n",
       "       [5],\n",
       "       [6]], dtype=int8)"
      ]
     },
     "execution_count": 70,
     "metadata": {},
     "output_type": "execute_result"
    }
   ],
   "source": [
    "ar.reshape((9,1)) # ypu can reshape the matrix"
   ]
  },
  {
   "cell_type": "markdown",
   "id": "f023fb60",
   "metadata": {},
   "source": [
    "# You can perform matrix operations in Numpy for example addition subtraction and multiplication"
   ]
  },
  {
   "cell_type": "code",
   "execution_count": 71,
   "id": "52cc40de",
   "metadata": {},
   "outputs": [],
   "source": [
    "ar1=nm.array([[1,2,3],[4,5,6],[7,1,0]])"
   ]
  },
  {
   "cell_type": "code",
   "execution_count": 72,
   "id": "17ba9460",
   "metadata": {},
   "outputs": [],
   "source": [
    "ar2=nm.array([[1,0,0],[3,0,0],[2,0,0]])"
   ]
  },
  {
   "cell_type": "code",
   "execution_count": 73,
   "id": "78ed4ed4",
   "metadata": {},
   "outputs": [
    {
     "data": {
      "text/plain": [
       "array([[1, 2, 3],\n",
       "       [4, 5, 6],\n",
       "       [7, 1, 0]])"
      ]
     },
     "execution_count": 73,
     "metadata": {},
     "output_type": "execute_result"
    }
   ],
   "source": [
    "ar1"
   ]
  },
  {
   "cell_type": "code",
   "execution_count": 74,
   "id": "2a5ab152",
   "metadata": {},
   "outputs": [
    {
     "data": {
      "text/plain": [
       "array([[1, 0, 0],\n",
       "       [3, 0, 0],\n",
       "       [2, 0, 0]])"
      ]
     },
     "execution_count": 74,
     "metadata": {},
     "output_type": "execute_result"
    }
   ],
   "source": [
    "ar2"
   ]
  },
  {
   "cell_type": "code",
   "execution_count": 75,
   "id": "8962ef40",
   "metadata": {},
   "outputs": [
    {
     "ename": "SyntaxError",
     "evalue": "invalid syntax (Temp/ipykernel_888/2478096466.py, line 1)",
     "output_type": "error",
     "traceback": [
      "\u001b[1;36m  File \u001b[1;32m\"C:\\Users\\a\\AppData\\Local\\Temp/ipykernel_888/2478096466.py\"\u001b[1;36m, line \u001b[1;32m1\u001b[0m\n\u001b[1;33m    ar1*ar2 multiply element wise elemnt\u001b[0m\n\u001b[1;37m            ^\u001b[0m\n\u001b[1;31mSyntaxError\u001b[0m\u001b[1;31m:\u001b[0m invalid syntax\n"
     ]
    }
   ],
   "source": [
    "ar1*ar2 multiply element wise elemnt"
   ]
  },
  {
   "cell_type": "code",
   "execution_count": null,
   "id": "9113b360",
   "metadata": {},
   "outputs": [],
   "source": [
    "ar1+ar2"
   ]
  },
  {
   "cell_type": "code",
   "execution_count": 76,
   "id": "642d95d1",
   "metadata": {},
   "outputs": [
    {
     "data": {
      "text/plain": [
       "array([[1.        , 1.41421356, 1.73205081],\n",
       "       [2.        , 2.23606798, 2.44948974],\n",
       "       [2.64575131, 1.        , 0.        ]])"
      ]
     },
     "execution_count": 76,
     "metadata": {},
     "output_type": "execute_result"
    }
   ],
   "source": [
    "nm.sqrt(ar1) # take the square root of each element in the matrix"
   ]
  },
  {
   "cell_type": "code",
   "execution_count": 77,
   "id": "3f3d9a72",
   "metadata": {},
   "outputs": [
    {
     "data": {
      "text/plain": [
       "0"
      ]
     },
     "execution_count": 77,
     "metadata": {},
     "output_type": "execute_result"
    }
   ],
   "source": [
    "ar1.min()"
   ]
  },
  {
   "cell_type": "code",
   "execution_count": 78,
   "id": "2dffe722",
   "metadata": {},
   "outputs": [
    {
     "data": {
      "text/plain": [
       "7"
      ]
     },
     "execution_count": 78,
     "metadata": {},
     "output_type": "execute_result"
    }
   ],
   "source": [
    "ar1.max()"
   ]
  },
  {
   "cell_type": "code",
   "execution_count": 79,
   "id": "dcc82f5b",
   "metadata": {},
   "outputs": [
    {
     "data": {
      "text/plain": [
       "29"
      ]
     },
     "execution_count": 79,
     "metadata": {},
     "output_type": "execute_result"
    }
   ],
   "source": [
    "ar1.sum()"
   ]
  },
  {
   "cell_type": "code",
   "execution_count": 80,
   "id": "db1e1216",
   "metadata": {},
   "outputs": [
    {
     "data": {
      "text/plain": [
       "(array([1, 2], dtype=int64), array([2, 0], dtype=int64))"
      ]
     },
     "execution_count": 80,
     "metadata": {},
     "output_type": "execute_result"
    }
   ],
   "source": [
    "nm.where(ar1>5) # this will give me the tuple of the array index positions where the condition holds true"
   ]
  },
  {
   "cell_type": "code",
   "execution_count": 81,
   "id": "1be24d81",
   "metadata": {},
   "outputs": [
    {
     "data": {
      "text/plain": [
       "8"
      ]
     },
     "execution_count": 81,
     "metadata": {},
     "output_type": "execute_result"
    }
   ],
   "source": [
    "nm.count_nonzero(ar1)"
   ]
  },
  {
   "cell_type": "code",
   "execution_count": 82,
   "id": "3a4dfcf4",
   "metadata": {},
   "outputs": [
    {
     "data": {
      "text/plain": [
       "array([[1, 2, 3],\n",
       "       [4, 5, 6],\n",
       "       [7, 1, 0]])"
      ]
     },
     "execution_count": 82,
     "metadata": {},
     "output_type": "execute_result"
    }
   ],
   "source": [
    "ar1\n"
   ]
  },
  {
   "cell_type": "code",
   "execution_count": 83,
   "id": "f4f8d8e7",
   "metadata": {},
   "outputs": [
    {
     "data": {
      "text/plain": [
       "(array([0, 0, 0, 1, 1, 1, 2, 2], dtype=int64),\n",
       " array([0, 1, 2, 0, 1, 2, 0, 1], dtype=int64))"
      ]
     },
     "execution_count": 83,
     "metadata": {},
     "output_type": "execute_result"
    }
   ],
   "source": [
    "nm.nonzero(ar1) # this will give me the pair of indeces of non zero element of each row"
   ]
  },
  {
   "cell_type": "markdown",
   "id": "7bdd3721",
   "metadata": {},
   "source": [
    "## numpy takes less size as compare to python"
   ]
  },
  {
   "cell_type": "code",
   "execution_count": 84,
   "id": "51a900a9",
   "metadata": {},
   "outputs": [],
   "source": [
    "import sys"
   ]
  },
  {
   "cell_type": "code",
   "execution_count": 85,
   "id": "32389161",
   "metadata": {},
   "outputs": [],
   "source": [
    "py_ar=[1,2,3,4]"
   ]
  },
  {
   "cell_type": "code",
   "execution_count": 86,
   "id": "7ce0957f",
   "metadata": {},
   "outputs": [],
   "source": [
    "nm_ar=nm.array([1,2,3,4])\n"
   ]
  },
  {
   "cell_type": "code",
   "execution_count": 87,
   "id": "dc37ca26",
   "metadata": {},
   "outputs": [
    {
     "data": {
      "text/plain": [
       "112"
      ]
     },
     "execution_count": 87,
     "metadata": {},
     "output_type": "execute_result"
    }
   ],
   "source": [
    "sys.getsizeof(1)*len(py_ar)"
   ]
  },
  {
   "cell_type": "code",
   "execution_count": 88,
   "id": "5115068e",
   "metadata": {},
   "outputs": [
    {
     "data": {
      "text/plain": [
       "16"
      ]
     },
     "execution_count": 88,
     "metadata": {},
     "output_type": "execute_result"
    }
   ],
   "source": [
    "nm_ar.itemsize*nm_ar.size"
   ]
  },
  {
   "cell_type": "markdown",
   "id": "e3b6a595",
   "metadata": {},
   "source": [
    "# Numpy Coding Ninjas"
   ]
  },
  {
   "cell_type": "code",
   "execution_count": 89,
   "id": "e36a3786",
   "metadata": {},
   "outputs": [],
   "source": [
    "import time\n",
    "size=100000\n",
    "def addition_using_list():\n",
    "    t1=time.time()\n",
    "    a=range(size)\n",
    "    b=range(size)\n",
    "    c=[a[i]+b[i] for i in range(size)]\n",
    "    t2=time.time()\n",
    "    return (t2-t1)\n",
    "def addition_using_numpy():\n",
    "    t1=time.time()\n",
    "    a=nm.arange(size)\n",
    "    b=nm.arange(size)\n",
    "    c=a+b\n",
    "    t2=time.time()\n",
    "    return (t2-t1)\n"
   ]
  },
  {
   "cell_type": "code",
   "execution_count": 90,
   "id": "44970612",
   "metadata": {},
   "outputs": [
    {
     "name": "stdout",
     "output_type": "stream",
     "text": [
      "list --> 65.0022029876709\n",
      "numpy --> 1.001119613647461\n"
     ]
    }
   ],
   "source": [
    "t_list=addition_using_list()\n",
    "t_numpy=addition_using_numpy()\n",
    "print(\"list -->\",t_list*1000)\n",
    "print(\"numpy -->\",t_numpy*1000)  # this shows numpy library takes less time and memory as compare to the python lists"
   ]
  },
  {
   "cell_type": "code",
   "execution_count": 91,
   "id": "2ba46c9b",
   "metadata": {},
   "outputs": [
    {
     "data": {
      "text/plain": [
       "array([1., 2., 3., 4.])"
      ]
     },
     "execution_count": 91,
     "metadata": {},
     "output_type": "execute_result"
    }
   ],
   "source": [
    "b=[1,2,3,4]\n",
    "b=nm.array(b,dtype=float)\n",
    "b"
   ]
  },
  {
   "cell_type": "code",
   "execution_count": 92,
   "id": "da08153a",
   "metadata": {},
   "outputs": [
    {
     "data": {
      "text/plain": [
       "dtype('float64')"
      ]
     },
     "execution_count": 92,
     "metadata": {},
     "output_type": "execute_result"
    }
   ],
   "source": [
    "b.dtype"
   ]
  },
  {
   "cell_type": "code",
   "execution_count": 93,
   "id": "9d636de6",
   "metadata": {},
   "outputs": [
    {
     "name": "stdout",
     "output_type": "stream",
     "text": [
      "[1 1 1]\n",
      "[1. 1. 1.]\n",
      "[[1 1]\n",
      " [1 1]\n",
      " [1 1]]\n",
      "[[1. 1. 1. 1.]\n",
      " [1. 1. 1. 1.]]\n"
     ]
    }
   ],
   "source": [
    "b=nm.ones(3,dtype=int) # for 1 D\n",
    "print(b) \n",
    "b=nm.ones(3,dtype=float)\n",
    "print(b)\n",
    "\n",
    "b=nm.ones((3,2),dtype=int) # for 2 D\n",
    "print(b) \n",
    "b=nm.ones((2,4),dtype=float)\n",
    "print(b)\n"
   ]
  },
  {
   "cell_type": "code",
   "execution_count": 94,
   "id": "4f1f2b1c",
   "metadata": {},
   "outputs": [
    {
     "name": "stdout",
     "output_type": "stream",
     "text": [
      "[0 0 0]\n",
      "[0. 0. 0.]\n",
      "[[0 0]\n",
      " [0 0]\n",
      " [0 0]]\n",
      "[[0. 0. 0. 0.]\n",
      " [0. 0. 0. 0.]]\n"
     ]
    }
   ],
   "source": [
    "b=nm.zeros(3,dtype=int) # for 1 D\n",
    "print(b) \n",
    "b=nm.zeros(3,dtype=float)\n",
    "print(b)\n",
    "\n",
    "b=nm.zeros((3,2),dtype=int) # for 2 D\n",
    "print(b) \n",
    "b=nm.zeros((2,4),dtype=float)\n",
    "print(b)"
   ]
  },
  {
   "cell_type": "code",
   "execution_count": 95,
   "id": "ff778eb5",
   "metadata": {},
   "outputs": [
    {
     "data": {
      "text/plain": [
       "array([3, 3, 3, 3, 3])"
      ]
     },
     "execution_count": 95,
     "metadata": {},
     "output_type": "execute_result"
    }
   ],
   "source": [
    "b=nm.full(5,3) # nm.full(size of array,element you want to add) --> 1D\n",
    "b"
   ]
  },
  {
   "cell_type": "code",
   "execution_count": 96,
   "id": "b95097d3",
   "metadata": {},
   "outputs": [
    {
     "data": {
      "text/plain": [
       "array([[4, 4, 4],\n",
       "       [4, 4, 4],\n",
       "       [4, 4, 4]])"
      ]
     },
     "execution_count": 96,
     "metadata": {},
     "output_type": "execute_result"
    }
   ],
   "source": [
    "b=nm.full((3,3),4) # nm.full(size of array,element you want to add) --> 2D\n",
    "b"
   ]
  },
  {
   "cell_type": "code",
   "execution_count": 97,
   "id": "a6486f5f",
   "metadata": {},
   "outputs": [
    {
     "data": {
      "text/plain": [
       "array([0, 0, 0, 0, 1, 0, 0, 0, 0, 0])"
      ]
     },
     "execution_count": 97,
     "metadata": {},
     "output_type": "execute_result"
    }
   ],
   "source": [
    "a=nm.arange(10)\n",
    "a=nm.where(a!=4,0,1).reshape(10)  \n",
    "a"
   ]
  },
  {
   "cell_type": "code",
   "execution_count": 98,
   "id": "1f4e724b",
   "metadata": {},
   "outputs": [
    {
     "data": {
      "text/plain": [
       "array([[0, 0, 0],\n",
       "       [0, 1, 0],\n",
       "       [0, 0, 0]])"
      ]
     },
     "execution_count": 98,
     "metadata": {},
     "output_type": "execute_result"
    }
   ],
   "source": [
    "V=nm.arange(9)\n",
    "V=nm.where(V!=4,0,1).reshape((3,3))  # nm.where( condition with variable_name,if True, if False ) similar to \n",
    "V                                    # ternery operator --> condition?():()"
   ]
  },
  {
   "cell_type": "markdown",
   "id": "084854f0",
   "metadata": {},
   "source": [
    "# NUMPY .WHERE FOR CONDITION"
   ]
  },
  {
   "cell_type": "code",
   "execution_count": 99,
   "id": "4ca7a6be",
   "metadata": {},
   "outputs": [
    {
     "name": "stdout",
     "output_type": "stream",
     "text": [
      "[[0 1 2]\n",
      " [3 4 5]\n",
      " [6 7 8]]\n",
      "[[ -1  -1  -1]\n",
      " [ -1 100 100]\n",
      " [100 100 100]]\n",
      "[[ True  True  True]\n",
      " [ True False False]\n",
      " [False False False]]\n",
      "[[ True  True  True]\n",
      " [ True False False]\n",
      " [False False False]]\n",
      "[[100 100 100]\n",
      " [ -1  -1  -1]\n",
      " [100 100 100]]\n",
      "[[100 100 100]\n",
      " [ -1  -1  -1]\n",
      " [100  -1 100]]\n",
      "[[False False False]\n",
      " [ True  True  True]\n",
      " [False False False]]\n",
      "[[False False False]\n",
      " [ True  True  True]\n",
      " [False  True False]]\n",
      "[[-1 -1 -1]\n",
      " [-1  4  5]\n",
      " [ 6  7  8]]\n",
      "[[  0   1   2]\n",
      " [  3 100 100]\n",
      " [100 100 100]]\n",
      "[[0 1 2]\n",
      " [3 4 5]\n",
      " [6 7 8]]\n",
      "[[-1 -1 -1]\n",
      " [-1  4  5]\n",
      " [ 6  7  8]]\n",
      "[[0 1 2]\n",
      " [3 4 5]\n",
      " [6 7 8]]\n",
      "[[-1 -1 -1]\n",
      " [-1  4  5]\n",
      " [ 6  7  8]]\n",
      "[[ 0 10 20]\n",
      " [30  4  5]\n",
      " [ 6  7  8]]\n"
     ]
    }
   ],
   "source": [
    "a = nm.arange(9).reshape((3, 3))\n",
    "print(a)\n",
    "# [[0 1 2]\n",
    "#  [3 4 5]\n",
    "#  [6 7 8]]\n",
    "\n",
    "print(nm.where(a < 4, -1, 100))\n",
    "# [[ -1  -1  -1]\n",
    "#  [ -1 100 100]\n",
    "#  [100 100 100]]\n",
    "\n",
    "print(nm.where(a < 4, True, False))\n",
    "# [[ True  True  True]\n",
    "#  [ True False False]\n",
    "#  [False False False]]\n",
    "\n",
    "print(a < 4)\n",
    "# [[ True  True  True]\n",
    "#  [ True False False]\n",
    "#  [False False False]]\n",
    "\n",
    "print(nm.where((a > 2) & (a < 6), -1, 100))\n",
    "# [[100 100 100]\n",
    "#  [ -1  -1  -1]\n",
    "#  [100 100 100]]\n",
    "\n",
    "print(nm.where((a > 2) & (a < 6) | (a == 7), -1, 100))\n",
    "# [[100 100 100]\n",
    "#  [ -1  -1  -1]\n",
    "#  [100  -1 100]]\n",
    "\n",
    "print((a > 2) & (a < 6))\n",
    "# [[False False False]\n",
    "#  [ True  True  True]\n",
    "#  [False False False]]\n",
    "\n",
    "print((a > 2) & (a < 6) | (a == 7))\n",
    "# [[False False False]\n",
    "#  [ True  True  True]\n",
    "#  [False  True False]]\n",
    "\n",
    "print(nm.where(a < 4, -1, a))\n",
    "# [[-1 -1 -1]\n",
    "#  [-1  4  5]\n",
    "#  [ 6  7  8]]\n",
    "\n",
    "print(nm.where(a < 4, a, 100))\n",
    "# [[  0   1   2]\n",
    "#  [  3 100 100]\n",
    "#  [100 100 100]]\n",
    "\n",
    "a_org = nm.arange(9).reshape((3, 3))\n",
    "print(a_org)\n",
    "# [[0 1 2]\n",
    "#  [3 4 5]\n",
    "#  [6 7 8]]\n",
    "\n",
    "a_new = nm.where(a_org < 4, -1, a_org)\n",
    "print(a_new)\n",
    "# [[-1 -1 -1]\n",
    "#  [-1  4  5]\n",
    "#  [ 6  7  8]]\n",
    "\n",
    "print(a_org)\n",
    "# [[0 1 2]\n",
    "#  [3 4 5]\n",
    "#  [6 7 8]]\n",
    "\n",
    "a_org[a_org < 4] = -1\n",
    "print(a_org)\n",
    "# [[-1 -1 -1]\n",
    "#  [-1  4  5]\n",
    "#  [ 6  7  8]]\n",
    "\n",
    "print(nm.where(a < 4, a * 10, a))\n",
    "# [[ 0 10 20]\n",
    "#  [30  4  5]\n",
    "#  [ 6  7  8]]"
   ]
  },
  {
   "cell_type": "code",
   "execution_count": null,
   "id": "fefbc05c",
   "metadata": {},
   "outputs": [],
   "source": [
    "t1=time.time() # not a better solution to append a numpy array as it takes more time as compare to list\n",
    "file_obj=open('year2017.csv','r')\n",
    "file_data=csv.DictReader(file_obj,skipinitialspace=True)\n",
    "killed=nm.array([])\n",
    "wounded=nm.array([])\n",
    "country=nm.array([]) # empty list\n",
    "for row in file_data:\n",
    "    killed=nm.append(killed,row['Killed'])\n",
    "    wounded=nm.append(wounded,row['Wounded'])\n",
    "    country=nm.append(country,row['Country'])\n",
    "killed[killed=='']='0'\n",
    "killed=nm.array(killed,dtype=float)\n",
    "wounded[wounded=='']='0'\n",
    "wounded=nm.array(wounded,dtype=float)\n",
    "k_w=killed+wounded\n",
    "print(sum(k_w))\n",
    "print(sum(k_w[country=='India']))\n",
    "t2=time.time()\n",
    "print(f\"time taken to be executed is {(t2-t1)}s\")"
   ]
  },
  {
   "cell_type": "code",
   "execution_count": null,
   "id": "2e79c095",
   "metadata": {},
   "outputs": [],
   "source": []
  },
  {
   "cell_type": "code",
   "execution_count": null,
   "id": "9bad4fc2",
   "metadata": {},
   "outputs": [],
   "source": []
  },
  {
   "cell_type": "code",
   "execution_count": null,
   "id": "b124ed38",
   "metadata": {},
   "outputs": [],
   "source": []
  },
  {
   "cell_type": "code",
   "execution_count": null,
   "id": "f21aaf0a",
   "metadata": {},
   "outputs": [],
   "source": []
  },
  {
   "cell_type": "code",
   "execution_count": null,
   "id": "736c5460",
   "metadata": {},
   "outputs": [],
   "source": [
    "import numpy as nm\n",
    "import csv\n",
    "import time\n",
    "t1=time.time() \n",
    "file_obj=open('year2017.csv','r')\n",
    "file_data=csv.DictReader(file_obj,skipinitialspace=True)\n",
    "killed=[]\n",
    "wounded=[]\n",
    "country=[]\n",
    "for row in file_data:\n",
    "    killed.append(row['Killed'])\n",
    "    wounded.append(row['Wounded'])\n",
    "    country.append(row['Country'])\n",
    "killed=nm.array(killed)\n",
    "wounded=nm.array(wounded)\n",
    "\n",
    "killed[killed=='']='0'\n",
    "wounded[wounded=='']='0'\n",
    "\n",
    "killed=nm.array(killed,dtype=float)\n",
    "wounded=nm.array(wounded,dtype=float)\n",
    "country=nm.array(country)\n",
    "bool=country=='India'\n",
    "k_w=killed+wounded # this will give the array of killed + wounded\n",
    "print(sum(k_w[country=='India']))\n",
    "t2=time.time()\n",
    "print(f\"time taken to be executed is {(t2-t1)}s\")"
   ]
  },
  {
   "cell_type": "code",
   "execution_count": null,
   "id": "6003b9eb",
   "metadata": {},
   "outputs": [],
   "source": []
  },
  {
   "cell_type": "code",
   "execution_count": null,
   "id": "3a7e1649",
   "metadata": {},
   "outputs": [],
   "source": []
  },
  {
   "cell_type": "code",
   "execution_count": null,
   "id": "8def4f45",
   "metadata": {},
   "outputs": [],
   "source": []
  },
  {
   "cell_type": "code",
   "execution_count": null,
   "id": "b59feb6c",
   "metadata": {},
   "outputs": [],
   "source": []
  },
  {
   "cell_type": "code",
   "execution_count": null,
   "id": "31fb24a7",
   "metadata": {},
   "outputs": [],
   "source": []
  },
  {
   "cell_type": "code",
   "execution_count": null,
   "id": "2e8edf2b",
   "metadata": {},
   "outputs": [],
   "source": []
  },
  {
   "cell_type": "code",
   "execution_count": null,
   "id": "94a74300",
   "metadata": {},
   "outputs": [],
   "source": []
  },
  {
   "cell_type": "code",
   "execution_count": null,
   "id": "76f4434e",
   "metadata": {},
   "outputs": [],
   "source": []
  }
 ],
 "metadata": {
  "kernelspec": {
   "display_name": "Python 3 (ipykernel)",
   "language": "python",
   "name": "python3"
  },
  "language_info": {
   "codemirror_mode": {
    "name": "ipython",
    "version": 3
   },
   "file_extension": ".py",
   "mimetype": "text/x-python",
   "name": "python",
   "nbconvert_exporter": "python",
   "pygments_lexer": "ipython3",
   "version": "3.9.5"
  }
 },
 "nbformat": 4,
 "nbformat_minor": 5
}

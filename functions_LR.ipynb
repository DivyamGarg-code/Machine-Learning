{
 "cells": [
  {
   "cell_type": "code",
   "execution_count": 53,
   "metadata": {},
   "outputs": [],
   "source": [
    "''' Let's Make the functions of simple linear regression with input data having 1 feature\n",
    "make 4 functions \n",
    "fit() -> find the values of m,c for fitting the best line to the data\n",
    "predict() -> for predicting the x values ie y_pred\n",
    "score()  R2 score/coefficient of determination ->  1-u/v\n",
    "cost() cost or error function -> sum.(y_i-(m*x_i+c))^2 where y_i -> true value (m*x_i+c)->y_pred\n",
    "'''\n",
    "import numpy as np\n",
    "import pandas as pd\n",
    "import matplotlib.pyplot as plt"
   ]
  },
  {
   "cell_type": "code",
   "execution_count": 59,
   "metadata": {},
   "outputs": [
    {
     "name": "stdout",
     "output_type": "stream",
     "text": [
      "(75, 1)\n",
      "(25, 1)\n",
      "Slope/Coefficient : 1.3835511879050193\n",
      "Intercept : 5.586278506164206\n",
      "Train Score :  0.6131002814954125\n",
      "Test Score :  0.5310017347217648\n",
      "Error/cost on testing data :  3107.8144848932884\n",
      " \n",
      "By applying pre defined functions \n",
      "\n",
      "Slope/Coefficient : 1.3835511879050162\n",
      "Intercept : 5.586278506164362\n",
      "Train Score :  0.6131002814954127\n",
      "Test Score :  0.5310017347217653\n",
      "Error/cost on testing data :  3107.8144848932857\n"
     ]
    }
   ],
   "source": [
    "data=np.loadtxt(\"C:/Users/a/Desktop/Data Science/CN (Practice)/data.csv\",delimiter=',')\n",
    "# print(data)\n",
    "x=data[:,0].reshape(-1,1)\n",
    "y=data[:,1].reshape(-1,1)\n",
    "from sklearn import model_selection\n",
    "x_train,x_test,y_train,y_test=model_selection.train_test_split(x,y) # here you can pass how much percent of original data you want to pass\n",
    "                                                                    #   as training data and rest as testing data in terms of fraction that lies b/w 0-1\n",
    "print(x_train.shape)\n",
    "print(x_test.shape)\n",
    "\n",
    "def fit(x_train,y_train):\n",
    "    m=((x_train*y_train).mean()-(x_train.mean()*y_train.mean()))/((x_train**2).mean()-(x_train.mean())**2)\n",
    "    c=y_train.mean()-(m*(x_train.mean()))\n",
    "    return m,c\n",
    "\n",
    "m,c=fit(x_train,y_train)\n",
    "print(\"Slope/Coefficient :\",m)\n",
    "print(\"Intercept :\",c)\n",
    "\n",
    "\n",
    "def predict(x,m,c):\n",
    "    y_pred=m*x+c\n",
    "    return y_pred\n",
    "\n",
    "y_pred=predict(x_test,m,c)\n",
    "\n",
    "\n",
    "def score(x,y_t):\n",
    "    y_pred=m*x+c\n",
    "    v=((y_t-y_pred)**2).sum()\n",
    "    u=((y_t-y_t.mean())**2).sum()\n",
    "    score=1-(v/u)\n",
    "    return score\n",
    "    \n",
    "\n",
    "def cost(x,y,m,c):\n",
    "    cost=((y-(m*x+c))**2).sum()\n",
    "    return cost\n",
    "\n",
    "print(\"Train Score : \",score(x_train,y_train))\n",
    "print(\"Test Score : \",score(x_test,y_test))\n",
    "print(\"Error/cost on testing data : \",cost(x_test,y_test,m,c))\n",
    "\n",
    "\n",
    "print(\" \\nBy applying pre defined functions \\n\")\n",
    "from sklearn.linear_model import LinearRegression\n",
    "alg=LinearRegression()\n",
    "alg.fit(x_train,y_train)\n",
    "y_pred=alg.predict(x_test)\n",
    "alg_cost=((y_test-y_pred)**2).sum()\n",
    "\n",
    "print(\"Slope/Coefficient :\",alg.coef_[0][0])\n",
    "print(\"Intercept :\",alg.intercept_[0])\n",
    "print(\"Train Score : \",alg.score(x_train,y_train))\n",
    "print(\"Test Score : \",alg.score(x_test,y_test))\n",
    "print(\"Error/cost on testing data : \",alg_cost)\n",
    "\n"
   ]
  },
  {
   "cell_type": "code",
   "execution_count": 60,
   "metadata": {},
   "outputs": [
    {
     "data": {
      "text/plain": [
       "<matplotlib.collections.PathCollection at 0x25639c37820>"
      ]
     },
     "execution_count": 60,
     "metadata": {},
     "output_type": "execute_result"
    },
    {
     "data": {
      "image/png": "[encoded data removed]",
      "text/plain": [
       "<Figure size 432x288 with 1 Axes>"
      ]
     },
     "metadata": {
      "needs_background": "light"
     },
     "output_type": "display_data"
    }
   ],
   "source": [
    "x=np.arange(25,70,0.1)\n",
    "plt.plot(x,m*x+c)\n",
    "plt.scatter(x_test,y_test,color=\"r\")"
   ]
  },
  {
   "cell_type": "code",
   "execution_count": null,
   "metadata": {},
   "outputs": [],
   "source": []
  },
  {
   "cell_type": "code",
   "execution_count": null,
   "metadata": {},
   "outputs": [],
   "source": [
    "\n"
   ]
  },
  {
   "cell_type": "code",
   "execution_count": null,
   "metadata": {},
   "outputs": [],
   "source": []
  },
  {
   "cell_type": "code",
   "execution_count": null,
   "metadata": {},
   "outputs": [],
   "source": []
  },
  {
   "cell_type": "code",
   "execution_count": null,
   "metadata": {},
   "outputs": [],
   "source": []
  }
 ],
 "metadata": {
  "interpreter": {
   "hash": "bf18297ba29ab59974e3cde921359bf4732846305eb0ebd212cf3897d725727a"
  },
  "kernelspec": {
   "display_name": "Python 3.9.5 64-bit",
   "language": "python",
   "name": "python3"
  },
  "language_info": {
   "codemirror_mode": {
    "name": "ipython",
    "version": 3
   },
   "file_extension": ".py",
   "mimetype": "text/x-python",
   "name": "python",
   "nbconvert_exporter": "python",
   "pygments_lexer": "ipython3",
   "version": "3.9.5"
  },
  "orig_nbformat": 4
 },
 "nbformat": 4,
 "nbformat_minor": 2
}
